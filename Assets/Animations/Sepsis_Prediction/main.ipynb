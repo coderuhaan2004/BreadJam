{
 "cells": [
  {
   "cell_type": "markdown",
   "metadata": {},
   "source": [
    "## Explorative Data Analysis"
   ]
  },
  {
   "cell_type": "code",
   "execution_count": 6,
   "metadata": {},
   "outputs": [],
   "source": [
    "import pandas as pd\n",
    "#import dask.dataframe as dd\n",
    "import matplotlib.pyplot as plt\n",
    "%matplotlib inline\n",
    "import os\n",
    "import numpy as np\n",
    "import torch\n",
    "import torch.nn as nn\n",
    "from gensim.models import Word2Vec"
   ]
  },
  {
   "cell_type": "code",
   "execution_count": 2,
   "metadata": {},
   "outputs": [],
   "source": [
    "def load_data_from_folder(folder_path):\n",
    "    \"\"\"\n",
    "    Load data files from a given folder into a dictionary with separate \n",
    "    train and test data, using pandas.\n",
    "\n",
    "    Args:\n",
    "        folder_path (str): Path to the folder containing the CSV files.\n",
    "        \n",
    "    Returns:\n",
    "        dict: A dictionary with 'train' and 'test' keys, each containing\n",
    "        another dictionary of DataFrames.\n",
    "    \"\"\"\n",
    "    data = {\n",
    "        'train': {},\n",
    "        'test': {}\n",
    "    }\n",
    "    \n",
    "    for file_name in os.listdir(folder_path):\n",
    "        if not file_name.endswith('.csv'):\n",
    "            continue\n",
    "            \n",
    "        file_path = os.path.join(folder_path, file_name)\n",
    "        \n",
    "        # Determine if file is train or test\n",
    "        if '_train' in file_name:\n",
    "            category = 'train'\n",
    "            table_name = file_name.replace('_train.csv', '')\n",
    "        elif '_test' in file_name:\n",
    "            category = 'test'\n",
    "            table_name = file_name.replace('_test.csv', '')\n",
    "        else:\n",
    "            table_name = file_name.replace('.csv', '')\n",
    "            category = 'train'  # default to train if not specified\n",
    "            \n",
    "        try:\n",
    "            # Read the data using pandas\n",
    "            df = pd.read_csv(file_path)\n",
    "            \n",
    "            # Store in appropriate dictionary\n",
    "            data[category][table_name] = df\n",
    "            \n",
    "            print(f\"Loaded {file_name} into {category}/{table_name}\")\n",
    "        except Exception as e:\n",
    "            print(f\"Error loading {file_name}: {str(e)}\")\n",
    "    \n",
    "    return data\n"
   ]
  },
  {
   "cell_type": "code",
   "execution_count": 3,
   "metadata": {},
   "outputs": [],
   "source": [
    "train_folder = \"sepsis/training_data\"\n",
    "test_folder = \"sepsis/testing_data\""
   ]
  },
  {
   "cell_type": "code",
   "execution_count": 4,
   "metadata": {},
   "outputs": [
    {
     "name": "stdout",
     "output_type": "stream",
     "text": [
      "Loaded devices_train.csv into train/devices\n",
      "Loaded drugsexposure_train.csv into train/drugsexposure\n",
      "Loaded measurement_lab_train.csv into train/measurement_lab\n",
      "Loaded measurement_meds_train.csv into train/measurement_meds\n",
      "Loaded measurement_observation_train.csv into train/measurement_observation\n",
      "Loaded observation_train.csv into train/observation\n",
      "Loaded person_demographics_episode_train.csv into train/person_demographics_episode\n",
      "Loaded proceduresoccurrences_train.csv into train/proceduresoccurrences\n",
      "Loaded SepsisLabel_train.csv into train/SepsisLabel\n",
      "Loaded devices_test.csv into test/devices\n",
      "Loaded drugsexposure_test.csv into test/drugsexposure\n",
      "Loaded measurement_lab_test.csv into test/measurement_lab\n",
      "Loaded measurement_meds_test.csv into test/measurement_meds\n",
      "Loaded measurement_observation_test.csv into test/measurement_observation\n",
      "Loaded observation_test.csv into test/observation\n",
      "Loaded person_demographics_episode_test.csv into test/person_demographics_episode\n",
      "Loaded proceduresoccurrences_test.csv into test/proceduresoccurrences\n",
      "Loaded SepsisLabel_test.csv into test/SepsisLabel\n"
     ]
    }
   ],
   "source": [
    "# Load training and testing data\n",
    "tables_train = load_data_from_folder(train_folder)\n",
    "tables_test = load_data_from_folder(test_folder)"
   ]
  },
  {
   "cell_type": "markdown",
   "metadata": {},
   "source": [
    "### Sepsis Label filling"
   ]
  },
  {
   "cell_type": "code",
   "execution_count": 5,
   "metadata": {},
   "outputs": [],
   "source": [
    "def handle_sepsis_label_missing(df):\n",
    "    # Ensure SepsisLabel column is of a consistent data type, e.g., string\n",
    "    df['SepsisLabel'] = df['SepsisLabel'].astype(str)\n",
    "    # Fill missing values with '0' (indicating no sepsis)\n",
    "    df['SepsisLabel'] = df['SepsisLabel'].fillna('0')\n",
    "    # Forward fill within each person_id group\n",
    "    df['SepsisLabel'] = df.groupby('person_id')['SepsisLabel'].ffill()\n",
    "    return df\n"
   ]
  },
  {
   "cell_type": "markdown",
   "metadata": {},
   "source": [
    "### Temporal measurements:\n",
    "- measurement_lab\n",
    "- measurement_meds\n",
    "- measurement_observation\n",
    "- observation"
   ]
  },
  {
   "cell_type": "code",
   "execution_count": 6,
   "metadata": {},
   "outputs": [],
   "source": [
    "def handle_temporal_measurements(df):\n",
    "    \"\"\"\n",
    "    Handle temporal measurements by forward and backward filling values grouped by 'person_id'.\n",
    "    \n",
    "    Args:\n",
    "        df (pd.DataFrame): The DataFrame containing the measurements, which must have a 'person_id' column.\n",
    "        \n",
    "    Returns:\n",
    "        pd.DataFrame: The modified DataFrame with filled values.\n",
    "    \"\"\"\n",
    "    # Ensure 'person_id' exists\n",
    "    if 'person_id' not in df.columns:\n",
    "        raise KeyError(\"The column 'person_id' is missing from the DataFrame.\")\n",
    "    \n",
    "    # Sort by 'person_id' and 'measurement_datetime' (if it exists)\n",
    "    if 'measurement_datetime' in df.columns:\n",
    "        df = df.sort_values(by=['person_id', 'measurement_datetime'])\n",
    "    \n",
    "    # Forward and backward fill within each 'person_id' group\n",
    "    def fill_group(group):\n",
    "        group = group.ffill(limit=24)\n",
    "        group = group.bfill(limit=6)\n",
    "        return group\n",
    "    \n",
    "    # Reset index to avoid ambiguity between index and column labels\n",
    "    df = df.reset_index(drop=True)\n",
    "    \n",
    "    # Apply forward and backward fill for each group\n",
    "    df = df.groupby('person_id', group_keys=False).apply(fill_group)\n",
    "\n",
    "    return df"
   ]
  },
  {
   "cell_type": "markdown",
   "metadata": {},
   "source": [
    "### Event-based data\n",
    "- devices\n",
    "- proceduresoccurances\n",
    "- drugsexposure"
   ]
  },
  {
   "cell_type": "code",
   "execution_count": 7,
   "metadata": {},
   "outputs": [],
   "source": [
    "def handle_event_data(df):\n",
    "    \"\"\"\n",
    "    Handle event-based data by forward and backward filling within 'person_id' groups.\n",
    "    \n",
    "    Args:\n",
    "        df (pd.DataFrame): Event-based DataFrame, must include 'person_id'.\n",
    "        \n",
    "    Returns:\n",
    "        pd.DataFrame: Modified DataFrame with filled missing values.\n",
    "    \"\"\"\n",
    "    # Ensure 'person_id' exists\n",
    "    if 'person_id' not in df.columns:\n",
    "        raise KeyError(\"The column 'person_id' is missing from the DataFrame.\")\n",
    "    \n",
    "    # Sort by 'person_id' and event timestamp if available\n",
    "    if 'event_datetime' in df.columns:\n",
    "        df = df.sort_values(by=['person_id', 'event_datetime'])\n",
    "    \n",
    "    # Reset index to avoid index/column ambiguity\n",
    "    df = df.reset_index(drop=True)\n",
    "    \n",
    "    # Forward and backward fill within each group\n",
    "    def fill_group(group):\n",
    "        group = group.ffill(limit=24)\n",
    "        group = group.bfill(limit=6)\n",
    "        return group\n",
    "    \n",
    "    df = df.groupby('person_id', group_keys=False).apply(fill_group)\n",
    "    \n",
    "    return df"
   ]
  },
  {
   "cell_type": "markdown",
   "metadata": {},
   "source": [
    "### Demographics\n",
    "- person_demographics_episode"
   ]
  },
  {
   "cell_type": "code",
   "execution_count": 8,
   "metadata": {},
   "outputs": [],
   "source": [
    "def handle_demographics_missing(df):\n",
    "    \"\"\"\n",
    "    Handle missing demographic data using appropriate strategies for filling missing values.\n",
    "    \n",
    "    Args:\n",
    "        df (pd.DataFrame): Demographic DataFrame, must include static or categorical fields.\n",
    "        \n",
    "    Returns:\n",
    "        pd.DataFrame: Modified DataFrame with missing values filled.\n",
    "    \"\"\"\n",
    "    # Ensure no missing values in person_id\n",
    "    if 'person_id' not in df.columns:\n",
    "        raise KeyError(\"The column 'person_id' is missing from the DataFrame.\")\n",
    "    \n",
    "    # Fill categorical columns with mode (most frequent value)\n",
    "    categorical_cols = df.select_dtypes(include=['object', 'category']).columns\n",
    "    for col in categorical_cols:\n",
    "        df[col] = df[col].fillna(df[col].mode()[0] if not df[col].mode().empty else None)\n",
    "    \n",
    "    # Fill numeric columns with median\n",
    "    numeric_cols = df.select_dtypes(include=['number']).columns\n",
    "    for col in numeric_cols:\n",
    "        df[col] = df[col].fillna(df[col].median())\n",
    "    \n",
    "    return df"
   ]
  },
  {
   "cell_type": "code",
   "execution_count": 9,
   "metadata": {},
   "outputs": [],
   "source": [
    "# Sepsis Label - special handling\n",
    "train_sepsis = handle_sepsis_label_missing(tables_train['train']['SepsisLabel'])"
   ]
  },
  {
   "cell_type": "code",
   "execution_count": 10,
   "metadata": {},
   "outputs": [
    {
     "name": "stderr",
     "output_type": "stream",
     "text": [
      "C:\\Users\\Ruhaan\\AppData\\Local\\Temp\\ipykernel_11052\\2949256488.py:29: DeprecationWarning: DataFrameGroupBy.apply operated on the grouping columns. This behavior is deprecated, and in a future version of pandas the grouping columns will be excluded from the operation. Either pass `include_groups=False` to exclude the groupings or explicitly select the grouping columns after groupby to silence this warning.\n",
      "  df = df.groupby('person_id', group_keys=False).apply(fill_group)\n",
      "C:\\Users\\Ruhaan\\AppData\\Local\\Temp\\ipykernel_11052\\2949256488.py:29: DeprecationWarning: DataFrameGroupBy.apply operated on the grouping columns. This behavior is deprecated, and in a future version of pandas the grouping columns will be excluded from the operation. Either pass `include_groups=False` to exclude the groupings or explicitly select the grouping columns after groupby to silence this warning.\n",
      "  df = df.groupby('person_id', group_keys=False).apply(fill_group)\n",
      "C:\\Users\\Ruhaan\\AppData\\Local\\Temp\\ipykernel_11052\\2949256488.py:21: FutureWarning: Downcasting object dtype arrays on .fillna, .ffill, .bfill is deprecated and will change in a future version. Call result.infer_objects(copy=False) instead. To opt-in to the future behavior, set `pd.set_option('future.no_silent_downcasting', True)`\n",
      "  group = group.ffill(limit=24)\n",
      "C:\\Users\\Ruhaan\\AppData\\Local\\Temp\\ipykernel_11052\\2949256488.py:29: DeprecationWarning: DataFrameGroupBy.apply operated on the grouping columns. This behavior is deprecated, and in a future version of pandas the grouping columns will be excluded from the operation. Either pass `include_groups=False` to exclude the groupings or explicitly select the grouping columns after groupby to silence this warning.\n",
      "  df = df.groupby('person_id', group_keys=False).apply(fill_group)\n",
      "C:\\Users\\Ruhaan\\AppData\\Local\\Temp\\ipykernel_11052\\2949256488.py:29: DeprecationWarning: DataFrameGroupBy.apply operated on the grouping columns. This behavior is deprecated, and in a future version of pandas the grouping columns will be excluded from the operation. Either pass `include_groups=False` to exclude the groupings or explicitly select the grouping columns after groupby to silence this warning.\n",
      "  df = df.groupby('person_id', group_keys=False).apply(fill_group)\n"
     ]
    }
   ],
   "source": [
    "# Temporal measurements\n",
    "train_labs = handle_temporal_measurements(tables_train['train']['measurement_lab'])\n",
    "train_meds = handle_temporal_measurements(tables_train['train']['measurement_meds'])\n",
    "train_measurement_observation = handle_temporal_measurements(tables_train['train']['measurement_observation'])\n",
    "train_obs = handle_temporal_measurements(tables_train['train']['observation'])"
   ]
  },
  {
   "cell_type": "code",
   "execution_count": 11,
   "metadata": {},
   "outputs": [
    {
     "name": "stderr",
     "output_type": "stream",
     "text": [
      "C:\\Users\\Ruhaan\\AppData\\Local\\Temp\\ipykernel_11052\\1627764809.py:28: DeprecationWarning: DataFrameGroupBy.apply operated on the grouping columns. This behavior is deprecated, and in a future version of pandas the grouping columns will be excluded from the operation. Either pass `include_groups=False` to exclude the groupings or explicitly select the grouping columns after groupby to silence this warning.\n",
      "  df = df.groupby('person_id', group_keys=False).apply(fill_group)\n",
      "C:\\Users\\Ruhaan\\AppData\\Local\\Temp\\ipykernel_11052\\1627764809.py:28: DeprecationWarning: DataFrameGroupBy.apply operated on the grouping columns. This behavior is deprecated, and in a future version of pandas the grouping columns will be excluded from the operation. Either pass `include_groups=False` to exclude the groupings or explicitly select the grouping columns after groupby to silence this warning.\n",
      "  df = df.groupby('person_id', group_keys=False).apply(fill_group)\n",
      "C:\\Users\\Ruhaan\\AppData\\Local\\Temp\\ipykernel_11052\\1627764809.py:28: DeprecationWarning: DataFrameGroupBy.apply operated on the grouping columns. This behavior is deprecated, and in a future version of pandas the grouping columns will be excluded from the operation. Either pass `include_groups=False` to exclude the groupings or explicitly select the grouping columns after groupby to silence this warning.\n",
      "  df = df.groupby('person_id', group_keys=False).apply(fill_group)\n"
     ]
    }
   ],
   "source": [
    "# Event-based data\n",
    "train_devices = handle_event_data(tables_train['train']['devices'])\n",
    "train_proceduresoccurances = handle_event_data(tables_train['train']['proceduresoccurrences'])\n",
    "train_drugsexposure = handle_event_data(tables_train['train']['drugsexposure'])\n",
    "\n",
    "# Demographics\n",
    "train_person_demographics = handle_demographics_missing(tables_train['train']['person_demographics_episode'])"
   ]
  },
  {
   "cell_type": "code",
   "execution_count": 29,
   "metadata": {},
   "outputs": [],
   "source": [
    "train_data = {}\n",
    "train_data['train_sepsis'] = train_sepsis\n",
    "train_data['train_drugsexposure'] = train_drugsexposure\n",
    "train_data['train_proceduresoccurances'] = train_proceduresoccurances\n",
    "train_data['train_person_demographics'] = train_person_demographics\n",
    "train_data['train_meds'] = train_meds\n",
    "train_data['train_labs'] = train_labs\n",
    "train_data['train_devices'] = train_devices"
   ]
  },
  {
   "cell_type": "code",
   "execution_count": 13,
   "metadata": {},
   "outputs": [],
   "source": [
    "patients = train_data['train_person_demographics']['person_id'].unique()"
   ]
  },
  {
   "cell_type": "code",
   "execution_count": 14,
   "metadata": {},
   "outputs": [
    {
     "data": {
      "text/plain": [
       "2649"
      ]
     },
     "execution_count": 14,
     "metadata": {},
     "output_type": "execute_result"
    }
   ],
   "source": [
    "len(patients)"
   ]
  },
  {
   "cell_type": "code",
   "execution_count": 15,
   "metadata": {},
   "outputs": [],
   "source": [
    "from collections import defaultdict\n",
    "from datetime import datetime"
   ]
  },
  {
   "cell_type": "code",
   "execution_count": 30,
   "metadata": {},
   "outputs": [],
   "source": [
    "datetime_columns = {\n",
    "    'train_labs': 'measurement_datetime',\n",
    "    'train_meds': 'measurement_datetime',\n",
    "    'train_sepsis': 'measurement_datetime',\n",
    "    'train_proceduresoccurances': 'procedure_datetime_hourly',\n",
    "    'train_drugsexposure': 'drug_datetime_hourly',\n",
    "    'train_devices': 'device_datetime_hourly'\n",
    "}"
   ]
  },
  {
   "cell_type": "code",
   "execution_count": 31,
   "metadata": {},
   "outputs": [],
   "source": [
    "unique_drugs = train_data['train_drugsexposure']['drug_concept_id'].unique()\n",
    "drug_route = train_data['train_drugsexposure']['route_concept_id'].unique()\n",
    "unique_procedures = train_data['train_proceduresoccurances']['procedure'].unique()\n",
    "unique_devices = train_data['train_devices']['device'].unique()"
   ]
  },
  {
   "cell_type": "code",
   "execution_count": null,
   "metadata": {},
   "outputs": [],
   "source": [
    "%pip install gensim"
   ]
  },
  {
   "cell_type": "markdown",
   "metadata": {},
   "source": [
    "## Embedding of Categorical Codes"
   ]
  },
  {
   "cell_type": "code",
   "execution_count": null,
   "metadata": {},
   "outputs": [],
   "source": [
    "class Encoder(nn.module):\n",
    "    def __init__(self, train_data):\n",
    "        super(Encoder, self).__init__()\n",
    "        self.train_data = train_data # making train_data as self variable\n",
    "    def encodeCategories(self):\n",
    "        unique_drugs = self.train_data['train_drugsexposure']['drug_concept_id'].unique()\n",
    "        drug_route = self.train_data['train_drugsexposure']['route_concept_id'].unique()\n",
    "        unique_procedures = self.train_data['train_proceduresoccurances']['procedure'].unique()\n",
    "        unique_devices = self.train_data['train_devices']['device'].unique()\n",
    "\n",
    "        #making data\n",
    "        data = [list(map(str, unique_drugs)), list(map(str, drug_route)), list(map(str, unique_procedures)),list(map(str, unique_devices))]\n",
    "        model = Word2Vec(sentences=data, vector_size=25, window=5, min_count=1, workers=4)\n",
    "        # Get the embeddings for the unique drugs and routes\n",
    "        self.drug_embeddings = {drug: model.wv[str(drug)] for drug in unique_drugs}\n",
    "        self.route_embeddings = {route: model.wv[str(route)] for route in drug_route}\n",
    "        self.procedure_embeddings = {procedure: model.wv[str(procedure)] for procedure in unique_procedures}\n",
    "        self.device_embeddings = {device: model.wv[str(device)] for device in unique_devices}\n",
    "\n",
    "\n"
   ]
  },
  {
   "cell_type": "code",
   "execution_count": null,
   "metadata": {},
   "outputs": [
    {
     "name": "stdout",
     "output_type": "stream",
     "text": [
      "Filtered train_proceduresoccurances data for person_id 1:\n",
      "    person_id  procedure procedure_datetime_hourly\n",
      "0          1        301       2023-12-07 10:00:00\n",
      "Filtered train_drugsexposure data for person_id 1:\n",
      "    person_id  drug_concept_id  route_concept_id drug_datetime_hourly\n",
      "0          1              101               201  2023-12-07 10:00:00\n",
      "1          1              102               202  2023-12-07 11:00:00\n",
      "Filtered train_devices data for person_id 1:\n",
      "    person_id  device device_datetime_hourly\n",
      "0          1     401    2023-12-07 10:00:00\n",
      "Checking procedure: 301\n",
      "Checking drug: 101, route: 201\n",
      "Checking drug: 102, route: 202\n",
      "Checking device: 401\n",
      "No embeddings generated for person_id 1\n",
      "tensor([])\n"
     ]
    }
   ],
   "source": [
    "class Encoder(nn.Module):\n",
    "    def __init__(self, train_data):\n",
    "        super(Encoder, self).__init__()\n",
    "        self.train_data = train_data\n",
    "\n",
    "    def encodeCategories(self):\n",
    "        unique_drugs = self.train_data['train_drugsexposure']['drug_concept_id'].unique()\n",
    "        drug_route = self.train_data['train_drugsexposure']['route_concept_id'].unique()\n",
    "        unique_procedures = self.train_data['train_proceduresoccurances']['procedure'].unique()\n",
    "        unique_devices = self.train_data['train_devices']['device'].unique()\n",
    "\n",
    "        data = [\n",
    "            list(map(str, unique_drugs)),\n",
    "            list(map(str, drug_route)),\n",
    "            list(map(str, unique_procedures)),\n",
    "            list(map(str, unique_devices))\n",
    "        ]\n",
    "        model = Word2Vec(sentences=data, vector_size=25, window=5, min_count=1, workers=4)\n",
    "\n",
    "        self.drug_embeddings = {drug: model.wv[str(drug)] for drug in unique_drugs}\n",
    "        self.route_embeddings = {route: model.wv[str(route)] for route in drug_route}\n",
    "        self.procedure_embeddings = {procedure: model.wv[str(procedure)] for procedure in unique_procedures}\n",
    "        self.device_embeddings = {device: model.wv[str(device)] for device in unique_devices}\n",
    "\n",
    "    def get_patient_embeddings(self, person_id, datetime_columns):\n",
    "        # Filter datetime_columns for relevant keys\n",
    "        datetime_columns = {key: value for key, value in datetime_columns.items() if key in self.train_data}\n",
    "\n",
    "        patient_data = {}\n",
    "        for key, datetime_col in datetime_columns.items():\n",
    "            filtered_data = self.train_data[key][self.train_data[key]['person_id'] == person_id]\n",
    "            patient_data[key] = filtered_data\n",
    "            print(f\"Filtered {key} data for person_id {person_id}:\\n\", filtered_data)\n",
    "\n",
    "        embeddings_list = []\n",
    "        for key, df in patient_data.items():\n",
    "            if df.empty:\n",
    "                print(f\"No data for {key} and person_id {person_id}\")\n",
    "                continue\n",
    "\n",
    "            for _, row in df.iterrows():\n",
    "                time = row[datetime_columns[key]]\n",
    "                try:\n",
    "                    time_tensor = torch.tensor(pd.to_datetime(time).timestamp()).unsqueeze(0)\n",
    "                except Exception as e:\n",
    "                    print(f\"Invalid datetime: {time}, error: {e}\")\n",
    "                    continue\n",
    "\n",
    "                if key == 'train_drugsexposure':\n",
    "                    drug = row['drug_concept_id']\n",
    "                    route = row['route_concept_id']\n",
    "                    print(f\"Checking drug: {drug}, route: {route}\")\n",
    "                    if str(drug) in self.drug_embeddings:\n",
    "                        print(f\"Drug embedding found for {drug}\")\n",
    "                        embedding_tensor = torch.tensor(self.drug_embeddings[str(drug)].tolist(), dtype=torch.float32)\n",
    "                        embeddings_list.append((embedding_tensor, time_tensor))\n",
    "                    if str(route) in self.route_embeddings:\n",
    "                        print(f\"Route embedding found for {route}\")\n",
    "                        embedding_tensor = torch.tensor(self.route_embeddings[str(route)].tolist(), dtype=torch.float32)\n",
    "                        embeddings_list.append((embedding_tensor, time_tensor))\n",
    "                elif key == 'train_proceduresoccurances':\n",
    "                    procedure = row['procedure']\n",
    "                    print(f\"Checking procedure: {procedure}\")\n",
    "                    if str(procedure) in self.procedure_embeddings:\n",
    "                        print(f\"Procedure embedding found for {procedure}\")\n",
    "                        embedding_tensor = torch.tensor(self.procedure_embeddings[str(procedure)].tolist(), dtype=torch.float32)\n",
    "                        embeddings_list.append((embedding_tensor, time_tensor))\n",
    "                elif key == 'train_devices':\n",
    "                    device = row['device']\n",
    "                    print(f\"Checking device: {device}\")\n",
    "                    if str(device) in self.device_embeddings:\n",
    "                        print(f\"Device embedding found for {device}\")\n",
    "                        embedding_tensor = torch.tensor(self.device_embeddings[str(device)].tolist(), dtype=torch.float32)\n",
    "                        embeddings_list.append((embedding_tensor, time_tensor))\n",
    "\n",
    "        tensors = []\n",
    "        for embedding, time in embeddings_list:\n",
    "            if embedding.ndim == 1 and time.ndim == 1:\n",
    "                tensors.append(torch.cat((time, embedding)))\n",
    "\n",
    "        if tensors:\n",
    "            return torch.stack(tensors)\n",
    "        else:\n",
    "            print(\"No embeddings generated for person_id\", person_id)\n",
    "            return torch.tensor([])\n",
    "\n",
    "\n",
    "# Example usage\n",
    "train_data = {\n",
    "    'train_drugsexposure': pd.DataFrame({\n",
    "        'person_id': [1, 1, 2, 2],\n",
    "        'drug_concept_id': [101, 102, 101, 103],\n",
    "        'route_concept_id': [201, 202, 201, 203],\n",
    "        'drug_datetime_hourly': ['2023-12-07 10:00:00', '2023-12-07 11:00:00', '2023-12-07 12:00:00', '2023-12-07 13:00:00']\n",
    "    }),\n",
    "    'train_proceduresoccurances': pd.DataFrame({\n",
    "        'person_id': [1, 2],\n",
    "        'procedure': [301, 302],\n",
    "        'procedure_datetime_hourly': ['2023-12-07 10:00:00', '2023-12-07 11:00:00']\n",
    "    }),\n",
    "    'train_devices': pd.DataFrame({\n",
    "        'person_id': [1, 2],\n",
    "        'device': [401, 402],\n",
    "        'device_datetime_hourly': ['2023-12-07 10:00:00', '2023-12-07 11:00:00']\n",
    "    })\n",
    "}\n",
    "\n",
    "datetime_columns = {\n",
    "    'train_labs': 'measurement_datetime',\n",
    "    'train_meds': 'measurement_datetime',\n",
    "    'train_sepsis': 'measurement_datetime',\n",
    "    'train_proceduresoccurances': 'procedure_datetime_hourly',\n",
    "    'train_drugsexposure': 'drug_datetime_hourly',\n",
    "    'train_devices': 'device_datetime_hourly'\n",
    "}\n",
    "\n",
    "encoder = Encoder(train_data)\n",
    "encoder.encodeCategories()\n",
    "patient_embeddings = encoder.get_patient_embeddings(person_id=1, datetime_columns=datetime_columns)\n",
    "print(patient_embeddings)"
   ]
  },
  {
   "cell_type": "code",
   "execution_count": 26,
   "metadata": {},
   "outputs": [],
   "source": [
    "\n",
    "data = [list(map(str, unique_drugs)), list(map(str, drug_route)), list(map(str, unique_procedures)), ]\n",
    "model = Word2Vec(sentences=data, vector_size=25, window=5, min_count=1, workers=4)\n",
    "# Get the embeddings for the unique drugs and routes\n",
    "drug_embeddings = {drug: model.wv[str(drug)] for drug in unique_drugs}\n",
    "route_embeddings = {route: model.wv[str(route)] for route in drug_route}\n",
    "procedure_embeddings = {procedure: model.wv[str(procedure)] for procedure in unique_procedures}\n",
    "device_embeddings = {device: model.wv[str(device)] for device in unique_devices}"
   ]
  },
  {
   "cell_type": "markdown",
   "metadata": {},
   "source": [
    "## Embedding of numerical values"
   ]
  },
  {
   "cell_type": "code",
   "execution_count": 34,
   "metadata": {},
   "outputs": [],
   "source": [
    "def classify_measurements(measurements):\n",
    "    # Define the reference ranges for classification\n",
    "    ranges = {\n",
    "        \"Systolic Blood Pressure\": {\"low\": 90, \"normal\": 120},\n",
    "        \"Diastolic Blood Pressure\": {\"low\": 60, \"normal\": 80},\n",
    "        \"Body Temperature\": {\"low\": 95, \"normal\": 97, \"high\": 100.4},\n",
    "        \"Respiratory Rate\": {\"low\": 12, \"normal\": 20},\n",
    "        \"Heart Rate\": {\"low\": 60, \"normal\": 100},\n",
    "        \"Oxygen Saturation\": {\"low\": 90, \"normal\": 95},\n",
    "        \"Oxygen/Gas Total (Inhaled Gas)\": {\"low\": 21, \"normal\": 21}  # Assuming ambient air\n",
    "    }\n",
    "    \n",
    "    # Classification function\n",
    "    def classify(value, measurement):\n",
    "        if value is None:\n",
    "            return 'missing'\n",
    "        \n",
    "        if measurement in ranges:\n",
    "            if measurement == \"Body Temperature\":\n",
    "                if value < ranges[measurement][\"low\"]:\n",
    "                    return 'low'\n",
    "                elif value >= ranges[measurement][\"high\"]:\n",
    "                    return 'high'\n",
    "                else:\n",
    "                    return 'normal'\n",
    "            elif measurement == \"Oxygen/Gas Total (Inhaled Gas)\":\n",
    "                if value < ranges[measurement][\"low\"]:\n",
    "                    return 'low'\n",
    "                elif value > ranges[measurement][\"normal\"]:\n",
    "                    return 'high'\n",
    "                else:\n",
    "                    return 'normal'\n",
    "            else:\n",
    "                if value < ranges[measurement][\"low\"]:\n",
    "                    return 'low'\n",
    "                elif value >= ranges[measurement][\"normal\"]:\n",
    "                    return 'high'\n",
    "                else:\n",
    "                    return 'normal'\n",
    "        else:\n",
    "            return 'unknown measurement'\n",
    "\n",
    "    # Classify each measurement in the input dictionary\n",
    "    classified_results = {key: classify(value, key) for key, value in measurements.items()}\n",
    "    \n",
    "    return classified_results"
   ]
  },
  {
   "cell_type": "code",
   "execution_count": 5,
   "metadata": {},
   "outputs": [
    {
     "name": "stdout",
     "output_type": "stream",
     "text": [
      "Categorical Embeddings:\n",
      "tensor([[ 0.1382,  0.3951,  0.0406, -1.1683],\n",
      "        [ 0.9600, -0.7549,  0.3320,  0.6358],\n",
      "        [-1.3105,  1.2715,  1.3495,  0.5646],\n",
      "        [ 2.3138,  0.7962,  0.0942,  1.0381],\n",
      "        [ 2.3138,  0.7962,  0.0942,  1.0381],\n",
      "        [ 0.1382,  0.3951,  0.0406, -1.1683],\n",
      "        [-1.3105,  1.2715,  1.3495,  0.5646]], grad_fn=<EmbeddingBackward0>)\n"
     ]
    }
   ],
   "source": [
    "\n",
    "\n",
    "# Step 1: Define the measurements and their categories\n",
    "measurements_classified = {\n",
    "    \"Systolic Blood Pressure\": \"normal\",\n",
    "    \"Diastolic Blood Pressure\": \"low\",\n",
    "    \"Body Temperature\": \"missing\",\n",
    "    \"Respiratory Rate\": \"high\",\n",
    "    \"Heart Rate\": \"high\",\n",
    "    \"Oxygen Saturation\": \"normal\",\n",
    "    \"Oxygen/Gas Total (Inhaled Gas)\": \"missing\"\n",
    "}\n",
    "\n",
    "# Define unique categories\n",
    "categories = ['missing', 'low', 'normal', 'high']\n",
    "\n",
    "# Create a mapping from category to integer\n",
    "category_to_index = {category: index for index, category in enumerate(categories)}\n",
    "\n",
    "# Convert the classifications to indices\n",
    "indices = [category_to_index[classification] for classification in measurements_classified.values()]\n",
    "\n",
    "# Step 2: Create an embedding layer\n",
    "embedding_size = 4  # Size of the embedding vectors\n",
    "embedding_layer = nn.Embedding(len(categories), embedding_size)\n",
    "\n",
    "# Convert indices to tensor\n",
    "input_tensor = torch.tensor(indices, dtype=torch.long)\n",
    "\n",
    "# Get the embeddings for the input tensor\n",
    "embeddings = embedding_layer(input_tensor)\n",
    "\n",
    "# Display the embeddings\n",
    "print(\"Categorical Embeddings:\")\n",
    "print(embeddings)\n"
   ]
  },
  {
   "cell_type": "code",
   "execution_count": null,
   "metadata": {},
   "outputs": [],
   "source": []
  },
  {
   "cell_type": "code",
   "execution_count": 73,
   "metadata": {},
   "outputs": [],
   "source": [
    "def analyze_patient_time_series_single_table(\n",
    "    table,\n",
    "    table_name,\n",
    "    patient_id,\n",
    "    time_column,\n",
    "    variables_of_interest=None\n",
    "):\n",
    "    \"\"\"\n",
    "    Analyze and visualize how specific variables vary over time for a given patient in a specific table.\n",
    "\n",
    "    Args:\n",
    "        table (pd.DataFrame): The Pandas DataFrame to analyze.\n",
    "        table_name (str): Name of the table being analyzed.\n",
    "        patient_id (int or str): The ID of the patient to analyze.\n",
    "        time_column (str): Name of the time-related column in the data.\n",
    "        variables_of_interest (list): List of variable names to visualize. If None, analyzes all numeric columns.\n",
    "\n",
    "    Returns:\n",
    "        None\n",
    "    \"\"\"\n",
    "    print(f\"\\nAnalyzing time series for patient {patient_id} in table '{table_name}'...\")\n",
    "\n",
    "    # Filter by patient ID\n",
    "    if 'person_id' not in table.columns:\n",
    "        print(f\"Error: 'person_id' column not found in table '{table_name}'.\")\n",
    "        return\n",
    "\n",
    "    patient_data = table[table['person_id'] == patient_id]\n",
    "\n",
    "    if patient_data.empty:\n",
    "        print(f\"No data found for patient {patient_id} in table '{table_name}'.\")\n",
    "        return\n",
    "\n",
    "    # Check if the time column exists\n",
    "    if time_column not in patient_data.columns:\n",
    "        print(f\"Error: Time column '{time_column}' not found in table '{table_name}'.\")\n",
    "        return\n",
    "\n",
    "    # Convert the time column to datetime format\n",
    "    try:\n",
    "        patient_data[time_column] = pd.to_datetime(patient_data[time_column])\n",
    "    except Exception as e:\n",
    "        print(f\"Error: Unable to convert '{time_column}' to datetime. Details: {e}\")\n",
    "        return\n",
    "\n",
    "    # Sort by time column\n",
    "    patient_data = patient_data.sort_values(by=time_column)\n",
    "\n",
    "    # Select numeric variables if none are specified\n",
    "    if variables_of_interest is None:\n",
    "        variables_of_interest = patient_data.select_dtypes(include='number').columns.tolist()\n",
    "\n",
    "    if not variables_of_interest:\n",
    "        print(f\"No numeric variables found in table '{table_name}' for analysis.\")\n",
    "        return\n",
    "\n",
    "    # Plot each variable\n",
    "    for variable in variables_of_interest:\n",
    "        if variable not in patient_data.columns:\n",
    "            print(f\"Skipping variable '{variable}' (not found in table '{table_name}').\")\n",
    "            continue\n",
    "\n",
    "        # Skip if the variable has no data\n",
    "        if patient_data[variable].isna().all():\n",
    "            print(f\"Skipping variable '{variable}' (all values are missing).\")\n",
    "            continue\n",
    "\n",
    "        # Plot the variable over time\n",
    "        plt.figure(figsize=(12, 6))\n",
    "        plt.plot(patient_data[time_column], patient_data[variable], marker='o', label=variable, color='tab:blue')\n",
    "        plt.title(f\"'{variable}' Over Time for Patient {patient_id} in '{table_name}'\", fontsize=14)\n",
    "        plt.xlabel('Time', fontsize=12)\n",
    "        plt.ylabel(variable, fontsize=12)\n",
    "        plt.xticks(rotation=45, fontsize=10)\n",
    "        plt.yticks(fontsize=10)\n",
    "        plt.grid(visible=True, which='both', linestyle='--', linewidth=0.5)\n",
    "        plt.legend(fontsize=10)\n",
    "        plt.tight_layout()\n",
    "        plt.show()\n"
   ]
  },
  {
   "cell_type": "code",
   "execution_count": 77,
   "metadata": {},
   "outputs": [
    {
     "name": "stdout",
     "output_type": "stream",
     "text": [
      "\n",
      "Analyzing time series for patient 203008612 in table 'measurement_meds'...\n",
      "Skipping variable 'Respiratory rate' (all values are missing).\n",
      "Skipping variable 'Heart rate' (all values are missing).\n",
      "Skipping variable 'Measurement of oxygen saturation at periphery' (all values are missing).\n",
      "Skipping variable 'Heart rate' (all values are missing).\n",
      "Skipping variable 'Systolic blood pressure' (all values are missing).\n",
      "Skipping variable 'Diastolic blood pressure' (all values are missing).\n"
     ]
    },
    {
     "name": "stderr",
     "output_type": "stream",
     "text": [
      "C:\\Users\\Ruhaan\\AppData\\Local\\Temp\\ipykernel_7780\\1190839170.py:41: SettingWithCopyWarning: \n",
      "A value is trying to be set on a copy of a slice from a DataFrame.\n",
      "Try using .loc[row_indexer,col_indexer] = value instead\n",
      "\n",
      "See the caveats in the documentation: https://pandas.pydata.org/pandas-docs/stable/user_guide/indexing.html#returning-a-view-versus-a-copy\n",
      "  patient_data[time_column] = pd.to_datetime(patient_data[time_column])\n"
     ]
    },
    {
     "data": {
      "image/png": "[encoded data removed]",
      "text/plain": [
       "<Figure size 1200x600 with 1 Axes>"
      ]
     },
     "metadata": {},
     "output_type": "display_data"
    }
   ],
   "source": [
    "# Select the table, patient ID, and variables of interest\n",
    "table_name = \"measurement_meds\"\n",
    "selected_table = tables_train['train'][table_name]  # Replace with the appropriate table from tables_train or tables_test\n",
    "example_patient_id = 203008612\n",
    "\n",
    "variables_to_analyze = ['Respiratory rate', 'Heart rate', 'Measurement of oxygen saturation at periphery',\n",
    "                        'Heart rate', 'Systolic blood pressure', 'Diastolic blood pressure','Body temperature']  # Replace with actual variable names\n",
    "time_column = 'measurement_datetime'  # Replace with the actual time column name\n",
    "\n",
    "# Analyze time series for the selected table\n",
    "analyze_patient_time_series_single_table(selected_table, table_name, example_patient_id, time_column, variables_to_analyze)"
   ]
  },
  {
   "cell_type": "code",
   "execution_count": 79,
   "metadata": {},
   "outputs": [
    {
     "name": "stdout",
     "output_type": "stream",
     "text": [
      "\n",
      "Analyzing time series for patient 203008612 in table 'SepsisLabel'...\n"
     ]
    },
    {
     "name": "stderr",
     "output_type": "stream",
     "text": [
      "C:\\Users\\Ruhaan\\AppData\\Local\\Temp\\ipykernel_7780\\1190839170.py:41: SettingWithCopyWarning: \n",
      "A value is trying to be set on a copy of a slice from a DataFrame.\n",
      "Try using .loc[row_indexer,col_indexer] = value instead\n",
      "\n",
      "See the caveats in the documentation: https://pandas.pydata.org/pandas-docs/stable/user_guide/indexing.html#returning-a-view-versus-a-copy\n",
      "  patient_data[time_column] = pd.to_datetime(patient_data[time_column])\n"
     ]
    },
    {
     "data": {
      "image/png": "[encoded data removed]",
      "text/plain": [
       "<Figure size 1200x600 with 1 Axes>"
      ]
     },
     "metadata": {},
     "output_type": "display_data"
    }
   ],
   "source": [
    "# Select the table, patient ID, and variables of interest\n",
    "table_name = \"SepsisLabel\"\n",
    "selected_table = tables_train['train'][table_name]  # Replace with the appropriate table from tables_train or tables_test\n",
    "example_patient_id = 203008612\n",
    "\n",
    "variables_to_analyze = ['SepsisLabel'] #Replace with actual variable names\n",
    "time_column = 'measurement_datetime'  # Replace with the actual time column name\n",
    "\n",
    "# Analyze time series for the selected table\n",
    "analyze_patient_time_series_single_table(selected_table, table_name, example_patient_id, time_column, variables_to_analyze)"
   ]
  },
  {
   "cell_type": "code",
   "execution_count": null,
   "metadata": {},
   "outputs": [],
   "source": []
  }
 ],
 "metadata": {
  "kernelspec": {
   "display_name": "Python 3",
   "language": "python",
   "name": "python3"
  },
  "language_info": {
   "codemirror_mode": {
    "name": "ipython",
    "version": 3
   },
   "file_extension": ".py",
   "mimetype": "text/x-python",
   "name": "python",
   "nbconvert_exporter": "python",
   "pygments_lexer": "ipython3",
   "version": "3.12.4"
  }
 },
 "nbformat": 4,
 "nbformat_minor": 2
}
